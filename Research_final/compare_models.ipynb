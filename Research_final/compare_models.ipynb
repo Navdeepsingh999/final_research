{
 "cells": [
  {
   "cell_type": "code",
   "execution_count": 33,
   "metadata": {},
   "outputs": [],
   "source": [
    "import seaborn as sns\n",
    "import pandas as pd\n",
    "import numpy as np\n",
    "import pickle"
   ]
  },
  {
   "cell_type": "code",
   "execution_count": 2,
   "metadata": {
    "scrolled": true
   },
   "outputs": [
    {
     "data": {
      "text/html": [
       "<div>\n",
       "<style scoped>\n",
       "    .dataframe tbody tr th:only-of-type {\n",
       "        vertical-align: middle;\n",
       "    }\n",
       "\n",
       "    .dataframe tbody tr th {\n",
       "        vertical-align: top;\n",
       "    }\n",
       "\n",
       "    .dataframe thead th {\n",
       "        text-align: right;\n",
       "    }\n",
       "</style>\n",
       "<table border=\"1\" class=\"dataframe\">\n",
       "  <thead>\n",
       "    <tr style=\"text-align: right;\">\n",
       "      <th></th>\n",
       "      <th>mean radius</th>\n",
       "      <th>mean texture</th>\n",
       "      <th>mean perimeter</th>\n",
       "      <th>mean area</th>\n",
       "      <th>mean smoothness</th>\n",
       "      <th>mean compactness</th>\n",
       "      <th>mean concavity</th>\n",
       "      <th>mean concave points</th>\n",
       "      <th>mean symmetry</th>\n",
       "      <th>mean fractal dimension</th>\n",
       "      <th>...</th>\n",
       "      <th>worst texture</th>\n",
       "      <th>worst perimeter</th>\n",
       "      <th>worst area</th>\n",
       "      <th>worst smoothness</th>\n",
       "      <th>worst compactness</th>\n",
       "      <th>worst concavity</th>\n",
       "      <th>worst concave points</th>\n",
       "      <th>worst symmetry</th>\n",
       "      <th>worst fractal dimension</th>\n",
       "      <th>target</th>\n",
       "    </tr>\n",
       "  </thead>\n",
       "  <tbody>\n",
       "    <tr>\n",
       "      <th>0</th>\n",
       "      <td>2.652318</td>\n",
       "      <td>1.778113</td>\n",
       "      <td>2.606227</td>\n",
       "      <td>2.963243</td>\n",
       "      <td>-0.066095</td>\n",
       "      <td>1.286504</td>\n",
       "      <td>1.391341</td>\n",
       "      <td>2.026141</td>\n",
       "      <td>0.425758</td>\n",
       "      <td>0.068520</td>\n",
       "      <td>...</td>\n",
       "      <td>1.443859</td>\n",
       "      <td>3.021145</td>\n",
       "      <td>3.719984</td>\n",
       "      <td>0.687803</td>\n",
       "      <td>1.112159</td>\n",
       "      <td>1.581526</td>\n",
       "      <td>2.288284</td>\n",
       "      <td>0.373438</td>\n",
       "      <td>0.203037</td>\n",
       "      <td>0.0</td>\n",
       "    </tr>\n",
       "    <tr>\n",
       "      <th>1</th>\n",
       "      <td>-0.696205</td>\n",
       "      <td>-0.211741</td>\n",
       "      <td>-0.680078</td>\n",
       "      <td>-0.678307</td>\n",
       "      <td>1.316561</td>\n",
       "      <td>-0.012481</td>\n",
       "      <td>-0.210090</td>\n",
       "      <td>-0.341537</td>\n",
       "      <td>0.018776</td>\n",
       "      <td>0.375572</td>\n",
       "      <td>...</td>\n",
       "      <td>0.588600</td>\n",
       "      <td>-0.633210</td>\n",
       "      <td>-0.617789</td>\n",
       "      <td>1.601536</td>\n",
       "      <td>0.120573</td>\n",
       "      <td>0.100134</td>\n",
       "      <td>0.136897</td>\n",
       "      <td>-0.120915</td>\n",
       "      <td>0.451600</td>\n",
       "      <td>1.0</td>\n",
       "    </tr>\n",
       "    <tr>\n",
       "      <th>2</th>\n",
       "      <td>-0.334438</td>\n",
       "      <td>-0.817449</td>\n",
       "      <td>-0.306262</td>\n",
       "      <td>-0.376847</td>\n",
       "      <td>-1.289575</td>\n",
       "      <td>-0.127730</td>\n",
       "      <td>0.315560</td>\n",
       "      <td>-0.366853</td>\n",
       "      <td>-1.371749</td>\n",
       "      <td>-0.475733</td>\n",
       "      <td>...</td>\n",
       "      <td>-0.970413</td>\n",
       "      <td>-0.432734</td>\n",
       "      <td>-0.485451</td>\n",
       "      <td>-1.468074</td>\n",
       "      <td>-0.111428</td>\n",
       "      <td>0.336895</td>\n",
       "      <td>-0.177597</td>\n",
       "      <td>-1.464156</td>\n",
       "      <td>-0.714279</td>\n",
       "      <td>1.0</td>\n",
       "    </tr>\n",
       "    <tr>\n",
       "      <th>3</th>\n",
       "      <td>0.938985</td>\n",
       "      <td>0.663426</td>\n",
       "      <td>0.965802</td>\n",
       "      <td>0.871849</td>\n",
       "      <td>-0.435093</td>\n",
       "      <td>0.487579</td>\n",
       "      <td>0.128362</td>\n",
       "      <td>0.730247</td>\n",
       "      <td>1.175662</td>\n",
       "      <td>-1.161144</td>\n",
       "      <td>...</td>\n",
       "      <td>0.259530</td>\n",
       "      <td>0.955732</td>\n",
       "      <td>0.767011</td>\n",
       "      <td>-0.843912</td>\n",
       "      <td>0.260585</td>\n",
       "      <td>-0.188906</td>\n",
       "      <td>0.621937</td>\n",
       "      <td>0.313516</td>\n",
       "      <td>-0.503000</td>\n",
       "      <td>0.0</td>\n",
       "    </tr>\n",
       "    <tr>\n",
       "      <th>4</th>\n",
       "      <td>-0.288131</td>\n",
       "      <td>-0.151861</td>\n",
       "      <td>-0.263888</td>\n",
       "      <td>-0.390168</td>\n",
       "      <td>0.882446</td>\n",
       "      <td>0.548133</td>\n",
       "      <td>0.116251</td>\n",
       "      <td>0.222868</td>\n",
       "      <td>0.900572</td>\n",
       "      <td>0.347923</td>\n",
       "      <td>...</td>\n",
       "      <td>-0.129817</td>\n",
       "      <td>-0.369043</td>\n",
       "      <td>-0.493330</td>\n",
       "      <td>0.078649</td>\n",
       "      <td>0.119220</td>\n",
       "      <td>-0.050670</td>\n",
       "      <td>0.199483</td>\n",
       "      <td>0.390083</td>\n",
       "      <td>-0.010017</td>\n",
       "      <td>1.0</td>\n",
       "    </tr>\n",
       "  </tbody>\n",
       "</table>\n",
       "<p>5 rows × 31 columns</p>\n",
       "</div>"
      ],
      "text/plain": [
       "   mean radius  mean texture  mean perimeter  mean area  mean smoothness  \\\n",
       "0     2.652318      1.778113        2.606227   2.963243        -0.066095   \n",
       "1    -0.696205     -0.211741       -0.680078  -0.678307         1.316561   \n",
       "2    -0.334438     -0.817449       -0.306262  -0.376847        -1.289575   \n",
       "3     0.938985      0.663426        0.965802   0.871849        -0.435093   \n",
       "4    -0.288131     -0.151861       -0.263888  -0.390168         0.882446   \n",
       "\n",
       "   mean compactness  mean concavity  mean concave points  mean symmetry  \\\n",
       "0          1.286504        1.391341             2.026141       0.425758   \n",
       "1         -0.012481       -0.210090            -0.341537       0.018776   \n",
       "2         -0.127730        0.315560            -0.366853      -1.371749   \n",
       "3          0.487579        0.128362             0.730247       1.175662   \n",
       "4          0.548133        0.116251             0.222868       0.900572   \n",
       "\n",
       "   mean fractal dimension  ...  worst texture  worst perimeter  worst area  \\\n",
       "0                0.068520  ...       1.443859         3.021145    3.719984   \n",
       "1                0.375572  ...       0.588600        -0.633210   -0.617789   \n",
       "2               -0.475733  ...      -0.970413        -0.432734   -0.485451   \n",
       "3               -1.161144  ...       0.259530         0.955732    0.767011   \n",
       "4                0.347923  ...      -0.129817        -0.369043   -0.493330   \n",
       "\n",
       "   worst smoothness  worst compactness  worst concavity  worst concave points  \\\n",
       "0          0.687803           1.112159         1.581526              2.288284   \n",
       "1          1.601536           0.120573         0.100134              0.136897   \n",
       "2         -1.468074          -0.111428         0.336895             -0.177597   \n",
       "3         -0.843912           0.260585        -0.188906              0.621937   \n",
       "4          0.078649           0.119220        -0.050670              0.199483   \n",
       "\n",
       "   worst symmetry  worst fractal dimension  target  \n",
       "0        0.373438                 0.203037     0.0  \n",
       "1       -0.120915                 0.451600     1.0  \n",
       "2       -1.464156                -0.714279     1.0  \n",
       "3        0.313516                -0.503000     0.0  \n",
       "4        0.390083                -0.010017     1.0  \n",
       "\n",
       "[5 rows x 31 columns]"
      ]
     },
     "execution_count": 2,
     "metadata": {},
     "output_type": "execute_result"
    }
   ],
   "source": [
    "df = pd.read_csv(\"Test_data/test_scaled_data.csv\")\n",
    "df.head()"
   ]
  },
  {
   "cell_type": "code",
   "execution_count": 3,
   "metadata": {},
   "outputs": [],
   "source": [
    "X = df.iloc[: , 0:-1]\n",
    "y = df.iloc[: , -1]"
   ]
  },
  {
   "cell_type": "code",
   "execution_count": 4,
   "metadata": {},
   "outputs": [],
   "source": [
    "logistic_regression_model = pickle.load(open(\"SaveModels/logisticRegressionModel\", \"rb\"))"
   ]
  },
  {
   "cell_type": "code",
   "execution_count": 5,
   "metadata": {},
   "outputs": [],
   "source": [
    "naive_bayes_model = pickle.load(open(\"SaveModels/naiveBayesModel\", \"rb\"))"
   ]
  },
  {
   "cell_type": "code",
   "execution_count": 6,
   "metadata": {},
   "outputs": [],
   "source": [
    "svc_model = pickle.load(open(\"SaveModels/svcModel\", \"rb\"))"
   ]
  },
  {
   "cell_type": "code",
   "execution_count": 7,
   "metadata": {},
   "outputs": [],
   "source": [
    "decision_tree_model = pickle.load(open(\"SaveModels/decisionTreeClassifierModel\", \"rb\"))"
   ]
  },
  {
   "cell_type": "code",
   "execution_count": 8,
   "metadata": {},
   "outputs": [],
   "source": [
    "random_forest_model = pickle.load(open(\"SaveModels/randomForestClassifierModel\", \"rb\"))"
   ]
  },
  {
   "cell_type": "code",
   "execution_count": 37,
   "metadata": {},
   "outputs": [],
   "source": [
    "models = [logistic_regression_model, naive_bayes_model, svc_model, decision_tree_model, random_forest_model]\n",
    "models_name = ['Logistic Regression', 'Naive Bayes', 'SVC', 'Decision Tree', 'Random Forest']\n",
    "accuracy = []"
   ]
  },
  {
   "cell_type": "code",
   "execution_count": 38,
   "metadata": {},
   "outputs": [],
   "source": [
    "for model in models:\n",
    "\n",
    "    score = model.score(X,y)\n",
    "    accuracy.append(score)"
   ]
  },
  {
   "cell_type": "code",
   "execution_count": 39,
   "metadata": {},
   "outputs": [
    {
     "data": {
      "text/html": [
       "<div>\n",
       "<style scoped>\n",
       "    .dataframe tbody tr th:only-of-type {\n",
       "        vertical-align: middle;\n",
       "    }\n",
       "\n",
       "    .dataframe tbody tr th {\n",
       "        vertical-align: top;\n",
       "    }\n",
       "\n",
       "    .dataframe thead th {\n",
       "        text-align: right;\n",
       "    }\n",
       "</style>\n",
       "<table border=\"1\" class=\"dataframe\">\n",
       "  <thead>\n",
       "    <tr style=\"text-align: right;\">\n",
       "      <th></th>\n",
       "      <th>models</th>\n",
       "      <th>accuracy</th>\n",
       "    </tr>\n",
       "  </thead>\n",
       "  <tbody>\n",
       "    <tr>\n",
       "      <th>0</th>\n",
       "      <td>Logistic Regression</td>\n",
       "      <td>0.9736842105263158</td>\n",
       "    </tr>\n",
       "    <tr>\n",
       "      <th>1</th>\n",
       "      <td>Naive Bayes</td>\n",
       "      <td>0.956140350877193</td>\n",
       "    </tr>\n",
       "    <tr>\n",
       "      <th>2</th>\n",
       "      <td>SVC</td>\n",
       "      <td>0.9736842105263158</td>\n",
       "    </tr>\n",
       "    <tr>\n",
       "      <th>3</th>\n",
       "      <td>Decision Tree</td>\n",
       "      <td>0.9298245614035088</td>\n",
       "    </tr>\n",
       "    <tr>\n",
       "      <th>4</th>\n",
       "      <td>Random Forest</td>\n",
       "      <td>0.9385964912280702</td>\n",
       "    </tr>\n",
       "  </tbody>\n",
       "</table>\n",
       "</div>"
      ],
      "text/plain": [
       "                models            accuracy\n",
       "0  Logistic Regression  0.9736842105263158\n",
       "1          Naive Bayes   0.956140350877193\n",
       "2                  SVC  0.9736842105263158\n",
       "3        Decision Tree  0.9298245614035088\n",
       "4        Random Forest  0.9385964912280702"
      ]
     },
     "execution_count": 39,
     "metadata": {},
     "output_type": "execute_result"
    }
   ],
   "source": [
    "accuracy_df = pd.DataFrame(np.c_[models_name,acc] , columns=['models','accuracy'])\n",
    "accuracy_df"
   ]
  },
  {
   "cell_type": "code",
   "execution_count": 40,
   "metadata": {},
   "outputs": [
    {
     "data": {
      "text/plain": [
       "<AxesSubplot:>"
      ]
     },
     "execution_count": 40,
     "metadata": {},
     "output_type": "execute_result"
    },
    {
     "data": {
      "image/png": "[encoded data removed]",
      "text/plain": [
       "<Figure size 432x288 with 1 Axes>"
      ]
     },
     "metadata": {},
     "output_type": "display_data"
    }
   ],
   "source": [
    "sns.set(style=\"whitegrid\")\n",
    "sns.barplot(y = models_name,x = accuracy, data= accuracy_df)"
   ]
  },
  {
   "cell_type": "code",
   "execution_count": null,
   "metadata": {},
   "outputs": [],
   "source": []
  }
 ],
 "metadata": {
  "kernelspec": {
   "display_name": "Python 3",
   "language": "python",
   "name": "python3"
  },
  "language_info": {
   "codemirror_mode": {
    "name": "ipython",
    "version": 3
   },
   "file_extension": ".py",
   "mimetype": "text/x-python",
   "name": "python",
   "nbconvert_exporter": "python",
   "pygments_lexer": "ipython3",
   "version": "3.6.8"
  }
 },
 "nbformat": 4,
 "nbformat_minor": 4
}
